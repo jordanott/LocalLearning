{
 "cells": [
  {
   "cell_type": "code",
   "execution_count": 12,
   "metadata": {},
   "outputs": [],
   "source": [
    "import os\n",
    "import torch\n",
    "import numpy as np\n",
    "import matplotlib.pyplot as plt\n",
    "\n",
    "from torch import nn\n",
    "from keras.datasets import mnist\n",
    "\n",
    "(x_train, y_train), (x_test, y_test) = mnist.load_data()\n",
    "x = (x_train[0]  > 1).astype(np.float64)"
   ]
  },
  {
   "cell_type": "code",
   "execution_count": 13,
   "metadata": {},
   "outputs": [
    {
     "data": {
      "image/png": "[encoded data removed]",
      "text/plain": [
       "<matplotlib.figure.Figure at 0x7f1c5d6fc990>"
      ]
     },
     "metadata": {},
     "output_type": "display_data"
    }
   ],
   "source": [
    "plt.imshow(x); plt.show()"
   ]
  },
  {
   "cell_type": "code",
   "execution_count": 2,
   "metadata": {},
   "outputs": [],
   "source": [
    "def _generate_mask(row, col, n, r=3):\n",
    "    y,x = np.ogrid[-row:n-row, -col:n-col]\n",
    "    mask = x*x + y*y <= r*r\n",
    "\n",
    "    array = np.zeros((n, n))\n",
    "    array[mask] = 1\n",
    "    return array\n",
    "\n",
    "def _build_layer_connections(output_shape, input_shape):\n",
    "    # no weights for connections; only used for top layer\n",
    "    if input_shape is None: return None\n",
    "\n",
    "    connections = np.zeros(output_shape + input_shape)\n",
    "    for row in range(output_shape[0]):\n",
    "        for col in range(output_shape[1]):\n",
    "            connections[row][col] = _generate_mask(row, col, input_shape[0])\n",
    "    return torch.from_numpy(connections)"
   ]
  },
  {
   "cell_type": "code",
   "execution_count": 3,
   "metadata": {},
   "outputs": [],
   "source": [
    "input_shape = (28,28)\n",
    "output_shape = (10,10)\n",
    "\n",
    "weights = 0.6 * torch.randn(output_shape+input_shape, dtype=torch.float64) + 0.5\n",
    "connections = _build_layer_connections(output_shape, input_shape)"
   ]
  },
  {
   "cell_type": "code",
   "execution_count": 5,
   "metadata": {},
   "outputs": [
    {
     "data": {
      "text/plain": [
       "(torch.Size([10, 10, 28, 28]), torch.Size([10, 10, 28, 28]))"
      ]
     },
     "execution_count": 5,
     "metadata": {},
     "output_type": "execute_result"
    }
   ],
   "source": [
    "weights.shape, connections.shape"
   ]
  }
 ],
 "metadata": {
  "kernelspec": {
   "display_name": "Python 2",
   "language": "python",
   "name": "python2"
  },
  "language_info": {
   "codemirror_mode": {
    "name": "ipython",
    "version": 2
   },
   "file_extension": ".py",
   "mimetype": "text/x-python",
   "name": "python",
   "nbconvert_exporter": "python",
   "pygments_lexer": "ipython2",
   "version": "2.7.12"
  }
 },
 "nbformat": 4,
 "nbformat_minor": 2
}
